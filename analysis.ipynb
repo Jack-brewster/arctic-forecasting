{
 "cells": [
  {
   "cell_type": "code",
   "execution_count": 2,
   "metadata": {},
   "outputs": [],
   "source": [
    "import pandas as pd "
   ]
  },
  {
   "cell_type": "code",
   "execution_count": 3,
   "metadata": {},
   "outputs": [],
   "source": [
    "data = pd.read_csv('kp_ap_since_1932.txt', skiprows=29, sep='\\s+', header=0, index_col=False)\n"
   ]
  },
  {
   "cell_type": "code",
   "execution_count": 4,
   "metadata": {},
   "outputs": [
    {
     "data": {
      "text/plain": [
       "9.576957361461893"
      ]
     },
     "execution_count": 4,
     "metadata": {},
     "output_type": "execute_result"
    }
   ],
   "source": [
    "len(data[data['Kp'] > 4])* 100 / len(data)"
   ]
  },
  {
   "cell_type": "code",
   "execution_count": 9,
   "metadata": {},
   "outputs": [
    {
     "name": "stderr",
     "output_type": "stream",
     "text": [
      "C:\\Users\\jackb\\AppData\\Local\\Temp\\ipykernel_35792\\186840096.py:1: FutureWarning: The error_bad_lines argument has been deprecated and will be removed in a future version. Use on_bad_lines in the future.\n",
      "\n",
      "\n",
      "  sndata = pd.read_csv('SN_d_tot_V2.0.txt', error_bad_lines=False, skiprows=1, sep='\\s+', header=0, index_col=False)\n",
      "b'Skipping line 75150: expected 7 fields, saw 8\\nSkipping line 75151: expected 7 fields, saw 8\\nSkipping line 75152: expected 7 fields, saw 8\\nSkipping line 75153: expected 7 fields, saw 8\\nSkipping line 75154: expected 7 fields, saw 8\\nSkipping line 75155: expected 7 fields, saw 8\\nSkipping line 75156: expected 7 fields, saw 8\\nSkipping line 75157: expected 7 fields, saw 8\\nSkipping line 75158: expected 7 fields, saw 8\\nSkipping line 75159: expected 7 fields, saw 8\\nSkipping line 75160: expected 7 fields, saw 8\\nSkipping line 75161: expected 7 fields, saw 8\\nSkipping line 75162: expected 7 fields, saw 8\\nSkipping line 75163: expected 7 fields, saw 8\\nSkipping line 75164: expected 7 fields, saw 8\\nSkipping line 75165: expected 7 fields, saw 8\\nSkipping line 75166: expected 7 fields, saw 8\\nSkipping line 75167: expected 7 fields, saw 8\\nSkipping line 75168: expected 7 fields, saw 8\\nSkipping line 75169: expected 7 fields, saw 8\\nSkipping line 75170: expected 7 fields, saw 8\\nSkipping line 75171: expected 7 fields, saw 8\\nSkipping line 75172: expected 7 fields, saw 8\\nSkipping line 75173: expected 7 fields, saw 8\\nSkipping line 75174: expected 7 fields, saw 8\\nSkipping line 75175: expected 7 fields, saw 8\\nSkipping line 75176: expected 7 fields, saw 8\\nSkipping line 75177: expected 7 fields, saw 8\\nSkipping line 75178: expected 7 fields, saw 8\\nSkipping line 75179: expected 7 fields, saw 8\\nSkipping line 75180: expected 7 fields, saw 8\\nSkipping line 75181: expected 7 fields, saw 8\\nSkipping line 75182: expected 7 fields, saw 8\\nSkipping line 75183: expected 7 fields, saw 8\\nSkipping line 75184: expected 7 fields, saw 8\\nSkipping line 75185: expected 7 fields, saw 8\\nSkipping line 75186: expected 7 fields, saw 8\\nSkipping line 75187: expected 7 fields, saw 8\\nSkipping line 75188: expected 7 fields, saw 8\\nSkipping line 75189: expected 7 fields, saw 8\\nSkipping line 75190: expected 7 fields, saw 8\\nSkipping line 75191: expected 7 fields, saw 8\\nSkipping line 75192: expected 7 fields, saw 8\\nSkipping line 75193: expected 7 fields, saw 8\\nSkipping line 75194: expected 7 fields, saw 8\\nSkipping line 75195: expected 7 fields, saw 8\\nSkipping line 75196: expected 7 fields, saw 8\\nSkipping line 75197: expected 7 fields, saw 8\\nSkipping line 75198: expected 7 fields, saw 8\\nSkipping line 75199: expected 7 fields, saw 8\\nSkipping line 75200: expected 7 fields, saw 8\\nSkipping line 75201: expected 7 fields, saw 8\\nSkipping line 75202: expected 7 fields, saw 8\\nSkipping line 75203: expected 7 fields, saw 8\\nSkipping line 75204: expected 7 fields, saw 8\\nSkipping line 75205: expected 7 fields, saw 8\\nSkipping line 75206: expected 7 fields, saw 8\\nSkipping line 75207: expected 7 fields, saw 8\\nSkipping line 75208: expected 7 fields, saw 8\\nSkipping line 75209: expected 7 fields, saw 8\\nSkipping line 75210: expected 7 fields, saw 8\\nSkipping line 75211: expected 7 fields, saw 8\\nSkipping line 75212: expected 7 fields, saw 8\\nSkipping line 75213: expected 7 fields, saw 8\\nSkipping line 75214: expected 7 fields, saw 8\\nSkipping line 75215: expected 7 fields, saw 8\\nSkipping line 75216: expected 7 fields, saw 8\\nSkipping line 75217: expected 7 fields, saw 8\\nSkipping line 75218: expected 7 fields, saw 8\\nSkipping line 75219: expected 7 fields, saw 8\\nSkipping line 75220: expected 7 fields, saw 8\\nSkipping line 75221: expected 7 fields, saw 8\\nSkipping line 75222: expected 7 fields, saw 8\\nSkipping line 75223: expected 7 fields, saw 8\\nSkipping line 75224: expected 7 fields, saw 8\\nSkipping line 75225: expected 7 fields, saw 8\\nSkipping line 75226: expected 7 fields, saw 8\\nSkipping line 75227: expected 7 fields, saw 8\\nSkipping line 75228: expected 7 fields, saw 8\\nSkipping line 75229: expected 7 fields, saw 8\\nSkipping line 75230: expected 7 fields, saw 8\\nSkipping line 75231: expected 7 fields, saw 8\\nSkipping line 75232: expected 7 fields, saw 8\\nSkipping line 75233: expected 7 fields, saw 8\\nSkipping line 75234: expected 7 fields, saw 8\\nSkipping line 75235: expected 7 fields, saw 8\\nSkipping line 75236: expected 7 fields, saw 8\\nSkipping line 75237: expected 7 fields, saw 8\\nSkipping line 75238: expected 7 fields, saw 8\\nSkipping line 75239: expected 7 fields, saw 8\\nSkipping line 75240: expected 7 fields, saw 8\\nSkipping line 75241: expected 7 fields, saw 8\\nSkipping line 75242: expected 7 fields, saw 8\\nSkipping line 75243: expected 7 fields, saw 8\\nSkipping line 75244: expected 7 fields, saw 8\\nSkipping line 75245: expected 7 fields, saw 8\\nSkipping line 75246: expected 7 fields, saw 8\\nSkipping line 75247: expected 7 fields, saw 8\\nSkipping line 75248: expected 7 fields, saw 8\\nSkipping line 75249: expected 7 fields, saw 8\\nSkipping line 75250: expected 7 fields, saw 8\\nSkipping line 75251: expected 7 fields, saw 8\\nSkipping line 75252: expected 7 fields, saw 8\\nSkipping line 75253: expected 7 fields, saw 8\\nSkipping line 75254: expected 7 fields, saw 8\\nSkipping line 75255: expected 7 fields, saw 8\\nSkipping line 75256: expected 7 fields, saw 8\\nSkipping line 75257: expected 7 fields, saw 8\\nSkipping line 75258: expected 7 fields, saw 8\\nSkipping line 75259: expected 7 fields, saw 8\\nSkipping line 75260: expected 7 fields, saw 8\\nSkipping line 75261: expected 7 fields, saw 8\\nSkipping line 75262: expected 7 fields, saw 8\\nSkipping line 75263: expected 7 fields, saw 8\\nSkipping line 75264: expected 7 fields, saw 8\\nSkipping line 75265: expected 7 fields, saw 8\\nSkipping line 75266: expected 7 fields, saw 8\\nSkipping line 75267: expected 7 fields, saw 8\\nSkipping line 75268: expected 7 fields, saw 8\\nSkipping line 75269: expected 7 fields, saw 8\\nSkipping line 75270: expected 7 fields, saw 8\\nSkipping line 75271: expected 7 fields, saw 8\\nSkipping line 75272: expected 7 fields, saw 8\\n'\n"
     ]
    }
   ],
   "source": [
    "sndata = pd.read_csv('SN_d_tot_V2.0.txt', error_bad_lines=False, skiprows=1, sep='\\s+', header=0, index_col=False)"
   ]
  }
 ],
 "metadata": {
  "kernelspec": {
   "display_name": "base",
   "language": "python",
   "name": "python3"
  },
  "language_info": {
   "codemirror_mode": {
    "name": "ipython",
    "version": 3
   },
   "file_extension": ".py",
   "mimetype": "text/x-python",
   "name": "python",
   "nbconvert_exporter": "python",
   "pygments_lexer": "ipython3",
   "version": "3.9.13"
  }
 },
 "nbformat": 4,
 "nbformat_minor": 2
}
